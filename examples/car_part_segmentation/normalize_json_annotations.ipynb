{
 "cells": [
  {
   "cell_type": "code",
   "execution_count": 2,
   "metadata": {},
   "outputs": [],
   "source": [
    "import json\n",
    "from pathlib import Path\n",
    "from tqdm import tqdm\n",
    "import pandas as pd"
   ]
  },
  {
   "cell_type": "markdown",
   "metadata": {},
   "source": [
    "# Normalize json annotation to Solera classes"
   ]
  },
  {
   "cell_type": "code",
   "execution_count": 5,
   "metadata": {},
   "outputs": [],
   "source": [
    "annotation_file = Path('./dataset/cogito_output_merged.json')\n",
    "\n",
    "with open(annotation_file, 'r') as f:\n",
    "    annotations = json.load(f)\n",
    "    \n",
    "solera_mapping = {'back_side' : 'segment_back_side',\n",
    " 'back_window': 'segment_back_window',\n",
    " 'bumper_back': 'segment_back_bumper',\n",
    " 'bumper_front': 'segment_front_bumper',\n",
    " 'door_front_left': 'segment_front_door_left',\n",
    " 'door_front_right': 'segment_front_door_right',\n",
    " 'door_pillar_left': 'segment_door_pillar_left',\n",
    " 'door_pillar_right': 'segment_door_pillar_right',\n",
    " 'door_rear_left': 'segment_rear_door_left',\n",
    " 'door_rear_right': 'segment_rear_door_right',\n",
    " 'door_sill_left': 'segment_door_sill_left',\n",
    " 'door_sill_right': 'segment_door_sill_right',\n",
    " 'door_window_front_left': 'segment_front_door_window_left',\n",
    " 'door_window_front_right': 'segment_front_door_window_right',\n",
    " 'door_window_rear_left' : 'segment_rear_door_left',\n",
    " 'door_window_rear_right': 'segment_rear_door_right',\n",
    " 'fender_back_left': 'segment_back_fender_left',\n",
    " 'fender_back_right': 'segment_back_fender_right',\n",
    " 'fender_front_left': 'segment_front_fender_left',\n",
    " 'fender_front_right': 'segment_front_fender_right',\n",
    " 'fog_light_back_left': 'segment_fog_light_left', # aggregate\n",
    " 'fog_light_back_right': 'segment_fog_light_right',\n",
    " 'fog_light_front_left': 'segment_fog_light_left',\n",
    " 'fog_light_front_right': 'segment_fog_light_right',\n",
    " 'handle_front_left': 'segment_car_handle_front',\n",
    " 'handle_front_right': 'segment_car_handle_front',\n",
    " 'handle_rear_left': 'segment_car_handle_back',\n",
    " 'handle_rear_right': 'segment_car_handle_back',\n",
    " 'headlight_left': 'segment_front_headlight_left',\n",
    " 'headlight_right': 'segment_front_headlight_right',\n",
    " 'hood': 'segment_front_side',\n",
    " 'mirror_left': 'segment_left_mirror',\n",
    " 'mirror_right': 'segment_left_right',\n",
    " 'plate_back': 'segment_back_plate',\n",
    " 'plate_front': 'segment_front_plate',\n",
    " 'radiator_grill': 'segment_radiator_grill',\n",
    " 'roof': 'segment_roofside',\n",
    " 'tail_light_left': 'segment_taillight_left',\n",
    " 'tail_light_right': 'segment_taillight_right',\n",
    " 'trunk': 'segment_back_side',\n",
    " 'wheels_back_left': 'segment_wheels_back_left',\n",
    " 'wheels_back_right': 'segment_wheels_back_right',\n",
    " 'wheels_front_left': 'segment_wheels_front_left',\n",
    " 'wheels_front_right': 'segment_wheels_front_right',\n",
    " 'windscreen': 'segment_windscreen'}"
   ]
  },
  {
   "cell_type": "code",
   "execution_count": 6,
   "metadata": {},
   "outputs": [
    {
     "output_type": "execute_result",
     "data": {
      "text/plain": "   old_id      old_name\n0       0     back_side\n1       1     back-side\n2       2   back-window\n3       3   bumper_back\n4       4  bumper_front",
      "text/html": "<div>\n<style scoped>\n    .dataframe tbody tr th:only-of-type {\n        vertical-align: middle;\n    }\n\n    .dataframe tbody tr th {\n        vertical-align: top;\n    }\n\n    .dataframe thead th {\n        text-align: right;\n    }\n</style>\n<table border=\"1\" class=\"dataframe\">\n  <thead>\n    <tr style=\"text-align: right;\">\n      <th></th>\n      <th>old_id</th>\n      <th>old_name</th>\n    </tr>\n  </thead>\n  <tbody>\n    <tr>\n      <th>0</th>\n      <td>0</td>\n      <td>back_side</td>\n    </tr>\n    <tr>\n      <th>1</th>\n      <td>1</td>\n      <td>back-side</td>\n    </tr>\n    <tr>\n      <th>2</th>\n      <td>2</td>\n      <td>back-window</td>\n    </tr>\n    <tr>\n      <th>3</th>\n      <td>3</td>\n      <td>bumper_back</td>\n    </tr>\n    <tr>\n      <th>4</th>\n      <td>4</td>\n      <td>bumper_front</td>\n    </tr>\n  </tbody>\n</table>\n</div>"
     },
     "metadata": {},
     "execution_count": 6
    }
   ],
   "source": [
    "id_name_old = [ (a['id'], a['name']) for a in annotations['categories'] ]\n",
    "df = pd.DataFrame(id_name_old, columns = ['old_id', 'old_name'])\n",
    "df.head()"
   ]
  },
  {
   "cell_type": "code",
   "execution_count": 7,
   "metadata": {},
   "outputs": [],
   "source": [
    "df = df[df['old_name'] != '']\n",
    "df['new_name'] = df['old_name'].apply(lambda x: x.replace('-','_').lower())\n",
    "df['solera_name'] = df['new_name'].apply(lambda x: solera_mapping[x] if x in solera_mapping else x)"
   ]
  },
  {
   "cell_type": "code",
   "execution_count": 8,
   "metadata": {},
   "outputs": [
    {
     "output_type": "execute_result",
     "data": {
      "text/plain": "   old_id      old_name      new_name           solera_name\n0       0     back_side     back_side     segment_back_side\n1       1     back-side     back_side     segment_back_side\n2       2   back-window   back_window   segment_back_window\n3       3   bumper_back   bumper_back   segment_back_bumper\n4       4  bumper_front  bumper_front  segment_front_bumper",
      "text/html": "<div>\n<style scoped>\n    .dataframe tbody tr th:only-of-type {\n        vertical-align: middle;\n    }\n\n    .dataframe tbody tr th {\n        vertical-align: top;\n    }\n\n    .dataframe thead th {\n        text-align: right;\n    }\n</style>\n<table border=\"1\" class=\"dataframe\">\n  <thead>\n    <tr style=\"text-align: right;\">\n      <th></th>\n      <th>old_id</th>\n      <th>old_name</th>\n      <th>new_name</th>\n      <th>solera_name</th>\n    </tr>\n  </thead>\n  <tbody>\n    <tr>\n      <th>0</th>\n      <td>0</td>\n      <td>back_side</td>\n      <td>back_side</td>\n      <td>segment_back_side</td>\n    </tr>\n    <tr>\n      <th>1</th>\n      <td>1</td>\n      <td>back-side</td>\n      <td>back_side</td>\n      <td>segment_back_side</td>\n    </tr>\n    <tr>\n      <th>2</th>\n      <td>2</td>\n      <td>back-window</td>\n      <td>back_window</td>\n      <td>segment_back_window</td>\n    </tr>\n    <tr>\n      <th>3</th>\n      <td>3</td>\n      <td>bumper_back</td>\n      <td>bumper_back</td>\n      <td>segment_back_bumper</td>\n    </tr>\n    <tr>\n      <th>4</th>\n      <td>4</td>\n      <td>bumper_front</td>\n      <td>bumper_front</td>\n      <td>segment_front_bumper</td>\n    </tr>\n  </tbody>\n</table>\n</div>"
     },
     "metadata": {},
     "execution_count": 8
    }
   ],
   "source": [
    "df.head()"
   ]
  },
  {
   "cell_type": "code",
   "execution_count": 9,
   "metadata": {},
   "outputs": [
    {
     "output_type": "execute_result",
     "data": {
      "text/plain": "                   old_id  old_name  solera_name\nnew_name                                        \nback_side               2         2            2\nhandle_front_left       1         1            1\nhandle_rear_left        1         1            1\nhandle_rear_right       1         1            1\nheadlight_left          1         1            1",
      "text/html": "<div>\n<style scoped>\n    .dataframe tbody tr th:only-of-type {\n        vertical-align: middle;\n    }\n\n    .dataframe tbody tr th {\n        vertical-align: top;\n    }\n\n    .dataframe thead th {\n        text-align: right;\n    }\n</style>\n<table border=\"1\" class=\"dataframe\">\n  <thead>\n    <tr style=\"text-align: right;\">\n      <th></th>\n      <th>old_id</th>\n      <th>old_name</th>\n      <th>solera_name</th>\n    </tr>\n    <tr>\n      <th>new_name</th>\n      <th></th>\n      <th></th>\n      <th></th>\n    </tr>\n  </thead>\n  <tbody>\n    <tr>\n      <th>back_side</th>\n      <td>2</td>\n      <td>2</td>\n      <td>2</td>\n    </tr>\n    <tr>\n      <th>handle_front_left</th>\n      <td>1</td>\n      <td>1</td>\n      <td>1</td>\n    </tr>\n    <tr>\n      <th>handle_rear_left</th>\n      <td>1</td>\n      <td>1</td>\n      <td>1</td>\n    </tr>\n    <tr>\n      <th>handle_rear_right</th>\n      <td>1</td>\n      <td>1</td>\n      <td>1</td>\n    </tr>\n    <tr>\n      <th>headlight_left</th>\n      <td>1</td>\n      <td>1</td>\n      <td>1</td>\n    </tr>\n  </tbody>\n</table>\n</div>"
     },
     "metadata": {},
     "execution_count": 9
    }
   ],
   "source": [
    "df.groupby('new_name').count().sort_values(by='old_name', ascending=False).head()"
   ]
  },
  {
   "cell_type": "code",
   "execution_count": 10,
   "metadata": {},
   "outputs": [],
   "source": [
    "new_names = df['solera_name'].unique().tolist()\n",
    "new_names = [ (idx, name) for idx, name in enumerate(sorted(new_names)) ]\n",
    "\n",
    "df_new = pd.DataFrame(new_names, columns = ['new_id', 'solera_name'])"
   ]
  },
  {
   "cell_type": "code",
   "execution_count": 11,
   "metadata": {},
   "outputs": [
    {
     "output_type": "execute_result",
     "data": {
      "text/plain": "[(0, 'dent'),\n (1, 'scratch'),\n (2, 'segment_back_bumper'),\n (3, 'segment_back_fender_left'),\n (4, 'segment_back_fender_right'),\n (5, 'segment_back_plate'),\n (6, 'segment_back_side'),\n (7, 'segment_back_window'),\n (8, 'segment_car_handle_back'),\n (9, 'segment_car_handle_front'),\n (10, 'segment_door_pillar_left'),\n (11, 'segment_door_pillar_right'),\n (12, 'segment_door_sill_left'),\n (13, 'segment_door_sill_right'),\n (14, 'segment_fog_light_left'),\n (15, 'segment_fog_light_right'),\n (16, 'segment_front_bumper'),\n (17, 'segment_front_door_left'),\n (18, 'segment_front_door_right'),\n (19, 'segment_front_door_window_left'),\n (20, 'segment_front_door_window_right'),\n (21, 'segment_front_fender_left'),\n (22, 'segment_front_fender_right'),\n (23, 'segment_front_headlight_left'),\n (24, 'segment_front_headlight_right'),\n (25, 'segment_front_plate'),\n (26, 'segment_front_side'),\n (27, 'segment_left_mirror'),\n (28, 'segment_left_right'),\n (29, 'segment_radiator_grill'),\n (30, 'segment_rear_door_left'),\n (31, 'segment_rear_door_right'),\n (32, 'segment_roofside'),\n (33, 'segment_taillight_left'),\n (34, 'segment_taillight_right'),\n (35, 'segment_wheels_back_left'),\n (36, 'segment_wheels_back_right'),\n (37, 'segment_wheels_front_left'),\n (38, 'segment_wheels_front_right'),\n (39, 'segment_windscreen'),\n (40, 'severe_dent'),\n (41, 'substitution')]"
     },
     "metadata": {},
     "execution_count": 11
    }
   ],
   "source": [
    "new_names"
   ]
  },
  {
   "cell_type": "code",
   "execution_count": 12,
   "metadata": {},
   "outputs": [
    {
     "output_type": "execute_result",
     "data": {
      "text/plain": "   old_id          old_name          new_name               solera_name  \\\n0       0         back_side         back_side         segment_back_side   \n1       1         back-side         back_side         segment_back_side   \n2      44             trunk             trunk         segment_back_side   \n3       2       back-window       back_window       segment_back_window   \n4       3       bumper_back       bumper_back       segment_back_bumper   \n5       4      bumper_front      bumper_front      segment_front_bumper   \n6       5              dent              dent                      dent   \n7       6   door_front_left   door_front_left   segment_front_door_left   \n8       7  door_front_right  door_front_right  segment_front_door_right   \n9       8  door-pillar_left  door_pillar_left  segment_door_pillar_left   \n\n   new_id  \n0       6  \n1       6  \n2       6  \n3       7  \n4       2  \n5      16  \n6       0  \n7      17  \n8      18  \n9      10  ",
      "text/html": "<div>\n<style scoped>\n    .dataframe tbody tr th:only-of-type {\n        vertical-align: middle;\n    }\n\n    .dataframe tbody tr th {\n        vertical-align: top;\n    }\n\n    .dataframe thead th {\n        text-align: right;\n    }\n</style>\n<table border=\"1\" class=\"dataframe\">\n  <thead>\n    <tr style=\"text-align: right;\">\n      <th></th>\n      <th>old_id</th>\n      <th>old_name</th>\n      <th>new_name</th>\n      <th>solera_name</th>\n      <th>new_id</th>\n    </tr>\n  </thead>\n  <tbody>\n    <tr>\n      <th>0</th>\n      <td>0</td>\n      <td>back_side</td>\n      <td>back_side</td>\n      <td>segment_back_side</td>\n      <td>6</td>\n    </tr>\n    <tr>\n      <th>1</th>\n      <td>1</td>\n      <td>back-side</td>\n      <td>back_side</td>\n      <td>segment_back_side</td>\n      <td>6</td>\n    </tr>\n    <tr>\n      <th>2</th>\n      <td>44</td>\n      <td>trunk</td>\n      <td>trunk</td>\n      <td>segment_back_side</td>\n      <td>6</td>\n    </tr>\n    <tr>\n      <th>3</th>\n      <td>2</td>\n      <td>back-window</td>\n      <td>back_window</td>\n      <td>segment_back_window</td>\n      <td>7</td>\n    </tr>\n    <tr>\n      <th>4</th>\n      <td>3</td>\n      <td>bumper_back</td>\n      <td>bumper_back</td>\n      <td>segment_back_bumper</td>\n      <td>2</td>\n    </tr>\n    <tr>\n      <th>5</th>\n      <td>4</td>\n      <td>bumper_front</td>\n      <td>bumper_front</td>\n      <td>segment_front_bumper</td>\n      <td>16</td>\n    </tr>\n    <tr>\n      <th>6</th>\n      <td>5</td>\n      <td>dent</td>\n      <td>dent</td>\n      <td>dent</td>\n      <td>0</td>\n    </tr>\n    <tr>\n      <th>7</th>\n      <td>6</td>\n      <td>door_front_left</td>\n      <td>door_front_left</td>\n      <td>segment_front_door_left</td>\n      <td>17</td>\n    </tr>\n    <tr>\n      <th>8</th>\n      <td>7</td>\n      <td>door_front_right</td>\n      <td>door_front_right</td>\n      <td>segment_front_door_right</td>\n      <td>18</td>\n    </tr>\n    <tr>\n      <th>9</th>\n      <td>8</td>\n      <td>door-pillar_left</td>\n      <td>door_pillar_left</td>\n      <td>segment_door_pillar_left</td>\n      <td>10</td>\n    </tr>\n  </tbody>\n</table>\n</div>"
     },
     "metadata": {},
     "execution_count": 12
    }
   ],
   "source": [
    "map_df = df.merge(df_new, on='solera_name', how='inner')\n",
    "map_df.head(10)"
   ]
  },
  {
   "cell_type": "code",
   "execution_count": 13,
   "metadata": {},
   "outputs": [],
   "source": [
    "id_map = dict(zip(map_df['old_id'],map_df['new_id']))\n",
    "name_map = dict(zip(map_df['old_name'],map_df['solera_name']))"
   ]
  },
  {
   "cell_type": "code",
   "execution_count": 14,
   "metadata": {},
   "outputs": [
    {
     "output_type": "execute_result",
     "data": {
      "text/plain": "{'back_side': 'segment_back_side',\n 'back-side': 'segment_back_side',\n 'trunk': 'segment_back_side',\n 'back-window': 'segment_back_window',\n 'bumper_back': 'segment_back_bumper',\n 'bumper_front': 'segment_front_bumper',\n 'dent': 'dent',\n 'door_front_left': 'segment_front_door_left',\n 'door_front_right': 'segment_front_door_right',\n 'door-pillar_left': 'segment_door_pillar_left',\n 'door-pillar_right': 'segment_door_pillar_right',\n 'door_rear_left': 'segment_rear_door_left',\n 'door-window_rear_left': 'segment_rear_door_left',\n 'door_rear_right': 'segment_rear_door_right',\n 'door-window_rear_right': 'segment_rear_door_right',\n 'door-sill_left': 'segment_door_sill_left',\n 'door-sill_right': 'segment_door_sill_right',\n 'door-window_front_left': 'segment_front_door_window_left',\n 'door-window_front_right': 'segment_front_door_window_right',\n 'fender_back_left': 'segment_back_fender_left',\n 'fender_back_right': 'segment_back_fender_right',\n 'fender_front_left': 'segment_front_fender_left',\n 'fender_front_right': 'segment_front_fender_right',\n 'fog-light_back_left': 'segment_fog_light_left',\n 'fog-light_front_left': 'segment_fog_light_left',\n 'fog-light_back_right': 'segment_fog_light_right',\n 'fog-light_front_right': 'segment_fog_light_right',\n 'handle_front_left': 'segment_car_handle_front',\n 'handle_front_right': 'segment_car_handle_front',\n 'handle_rear_left': 'segment_car_handle_back',\n 'handle_rear_right': 'segment_car_handle_back',\n 'headlight_left': 'segment_front_headlight_left',\n 'headlight_right': 'segment_front_headlight_right',\n 'hood': 'segment_front_side',\n 'mirror_left': 'segment_left_mirror',\n 'mirror_right': 'segment_left_right',\n 'plate_back': 'segment_back_plate',\n 'plate_front': 'segment_front_plate',\n 'radiator-grill': 'segment_radiator_grill',\n 'roof': 'segment_roofside',\n 'scratch': 'scratch',\n 'severe-dent': 'severe_dent',\n 'substitution': 'substitution',\n 'tail-light_left': 'segment_taillight_left',\n 'tail-light_right': 'segment_taillight_right',\n 'wheels_back_left': 'segment_wheels_back_left',\n 'wheels_back_right': 'segment_wheels_back_right',\n 'wheels_front_left': 'segment_wheels_front_left',\n 'wheels_front_right': 'segment_wheels_front_right',\n 'windscreen': 'segment_windscreen'}"
     },
     "metadata": {},
     "execution_count": 14
    }
   ],
   "source": [
    "name_map"
   ]
  },
  {
   "cell_type": "code",
   "execution_count": 15,
   "metadata": {},
   "outputs": [],
   "source": [
    "import copy\n",
    "new_annotations = copy.copy(annotations)"
   ]
  },
  {
   "cell_type": "code",
   "execution_count": 16,
   "metadata": {},
   "outputs": [],
   "source": [
    "for entry in new_annotations['categories']:\n",
    "    if entry['id'] in id_map.keys():\n",
    "        entry['id'] = id_map[entry['id']]\n",
    "        entry['name'] = name_map[entry['name']]\n",
    "    else: \n",
    "        del entry"
   ]
  },
  {
   "cell_type": "code",
   "execution_count": 17,
   "metadata": {},
   "outputs": [],
   "source": [
    "for entry in new_annotations['annotations']:\n",
    "    if entry['category_id'] in id_map.keys():\n",
    "        entry['category_id'] = id_map[entry['category_id']]\n",
    "    else: \n",
    "        del entry"
   ]
  },
  {
   "cell_type": "code",
   "execution_count": 19,
   "metadata": {},
   "outputs": [],
   "source": [
    "with open('./dataset/cogito_output_merged_solera.json', 'w') as f:\n",
    "    json.dump(new_annotations, f)"
   ]
  },
  {
   "cell_type": "code",
   "execution_count": null,
   "metadata": {},
   "outputs": [],
   "source": []
  }
 ],
 "metadata": {
  "kernelspec": {
   "display_name": "Python 3.7.0 64-bit",
   "language": "python",
   "name": "python37064bit750a68cdbfcc480bb8ef6741a38f1d7e"
  },
  "language_info": {
   "codemirror_mode": {
    "name": "ipython",
    "version": 3
   },
   "file_extension": ".py",
   "mimetype": "text/x-python",
   "name": "python",
   "nbconvert_exporter": "python",
   "pygments_lexer": "ipython3",
   "version": "3.7.0-final"
  }
 },
 "nbformat": 4,
 "nbformat_minor": 4
}